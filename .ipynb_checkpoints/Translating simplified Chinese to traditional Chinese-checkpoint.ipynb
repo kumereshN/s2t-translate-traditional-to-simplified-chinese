{
 "cells": [
  {
   "cell_type": "markdown",
   "id": "14dccb98",
   "metadata": {},
   "source": [
    "# Translating traditional Chinese to simplified Chinese"
   ]
  },
  {
   "cell_type": "markdown",
   "id": "59719b6a",
   "metadata": {},
   "source": [
    "# chinese_converter package"
   ]
  },
  {
   "cell_type": "markdown",
   "id": "b8ffa991",
   "metadata": {},
   "source": [
    "## Import the package chinese_converter"
   ]
  },
  {
   "cell_type": "code",
   "execution_count": 1,
   "id": "9f6276f5",
   "metadata": {
    "ExecuteTime": {
     "end_time": "2021-10-07T07:37:10.006417Z",
     "start_time": "2021-10-07T07:37:09.974776Z"
    }
   },
   "outputs": [],
   "source": [
    "import chinese_converter"
   ]
  },
  {
   "cell_type": "markdown",
   "id": "c2fe42a0",
   "metadata": {},
   "source": [
    "## within, inside"
   ]
  },
  {
   "cell_type": "markdown",
   "id": "79799796",
   "metadata": {},
   "source": [
    "Traditional text: '裏' or '裡'\n",
    "\n",
    "Simplified text: '里'\n",
    "\n",
    "Translation: within, inside"
   ]
  },
  {
   "cell_type": "code",
   "execution_count": 2,
   "id": "52e5f66f",
   "metadata": {
    "ExecuteTime": {
     "end_time": "2021-10-07T07:37:10.877242Z",
     "start_time": "2021-10-07T07:37:10.862188Z"
    }
   },
   "outputs": [
    {
     "data": {
      "text/plain": [
       "'里'"
      ]
     },
     "execution_count": 2,
     "metadata": {},
     "output_type": "execute_result"
    }
   ],
   "source": [
    "chinese_converter.to_simplified('裡')"
   ]
  },
  {
   "cell_type": "code",
   "execution_count": 16,
   "id": "1321c4dd",
   "metadata": {
    "ExecuteTime": {
     "end_time": "2021-10-07T08:08:39.542098Z",
     "start_time": "2021-10-07T08:08:39.535106Z"
    }
   },
   "outputs": [
    {
     "data": {
      "text/plain": [
       "'里'"
      ]
     },
     "execution_count": 16,
     "metadata": {},
     "output_type": "execute_result"
    }
   ],
   "source": [
    "chinese_converter.to_simplified('裏')"
   ]
  },
  {
   "cell_type": "markdown",
   "id": "06d8df40",
   "metadata": {},
   "source": [
    "Have create a mapping between '裏' in traditional.txt with '里' in simplified.txt"
   ]
  },
  {
   "cell_type": "markdown",
   "id": "a9e69523",
   "metadata": {},
   "source": [
    "## this/ these"
   ]
  },
  {
   "cell_type": "markdown",
   "id": "c80e4b6c",
   "metadata": {},
   "source": [
    "Traditional text: '這'\n",
    "\n",
    "Simplified text: '这'\n",
    "\n",
    "Translation: this/ these"
   ]
  },
  {
   "cell_type": "code",
   "execution_count": 3,
   "id": "5c339d67",
   "metadata": {
    "ExecuteTime": {
     "end_time": "2021-10-07T07:37:16.952166Z",
     "start_time": "2021-10-07T07:37:16.934195Z"
    }
   },
   "outputs": [
    {
     "data": {
      "text/plain": [
       "'这'"
      ]
     },
     "execution_count": 3,
     "metadata": {},
     "output_type": "execute_result"
    }
   ],
   "source": [
    "chinese_converter.to_simplified('這')"
   ]
  },
  {
   "cell_type": "markdown",
   "id": "124c1a3c",
   "metadata": {},
   "source": [
    "## act as, take…to be, to be, to do, to serve as, to become / because of, for, to"
   ]
  },
  {
   "cell_type": "markdown",
   "id": "ddc3be00",
   "metadata": {},
   "source": [
    "Traditional text: '為'\n",
    "\n",
    "Simplified text: '为'\n",
    "\n",
    "Translation: act as, take…to be, to be, to do, to serve as, to become / because of, for, to"
   ]
  },
  {
   "cell_type": "code",
   "execution_count": 4,
   "id": "5f239427",
   "metadata": {
    "ExecuteTime": {
     "end_time": "2021-10-07T07:37:16.952166Z",
     "start_time": "2021-10-07T07:37:16.934195Z"
    }
   },
   "outputs": [
    {
     "data": {
      "text/plain": [
       "'为'"
      ]
     },
     "execution_count": 4,
     "metadata": {},
     "output_type": "execute_result"
    }
   ],
   "source": [
    "chinese_converter.to_simplified('為')"
   ]
  },
  {
   "cell_type": "markdown",
   "id": "f823e54c",
   "metadata": {},
   "source": [
    "## to come"
   ]
  },
  {
   "cell_type": "markdown",
   "id": "705429cd",
   "metadata": {},
   "source": [
    "Traditional text: '來'\n",
    "\n",
    "Simplified text: '来'\n",
    "\n",
    "Translation: to come"
   ]
  },
  {
   "cell_type": "code",
   "execution_count": null,
   "id": "f07f61df",
   "metadata": {
    "ExecuteTime": {
     "end_time": "2021-10-07T07:37:18.724853Z",
     "start_time": "2021-10-07T07:37:18.717861Z"
    }
   },
   "outputs": [],
   "source": [
    "chinese_converter.to_simplified('來')"
   ]
  },
  {
   "cell_type": "markdown",
   "id": "361d6275",
   "metadata": {},
   "source": [
    "## (a measure word), individual"
   ]
  },
  {
   "cell_type": "markdown",
   "id": "a703ba75",
   "metadata": {},
   "source": [
    "Traditional text: '個'\n",
    "\n",
    "Simplified text: '个'\n",
    "\n",
    "Translation: (a measure word), individual"
   ]
  },
  {
   "cell_type": "code",
   "execution_count": 5,
   "id": "1453d610",
   "metadata": {
    "ExecuteTime": {
     "end_time": "2021-10-07T07:37:18.724853Z",
     "start_time": "2021-10-07T07:37:18.717861Z"
    }
   },
   "outputs": [
    {
     "data": {
      "text/plain": [
       "'个'"
      ]
     },
     "execution_count": 5,
     "metadata": {},
     "output_type": "execute_result"
    }
   ],
   "source": [
    "chinese_converter.to_simplified('個')"
   ]
  },
  {
   "cell_type": "markdown",
   "id": "d931e452",
   "metadata": {},
   "source": [
    "## (plural marker for pronouns and a few animate nouns)"
   ]
  },
  {
   "cell_type": "markdown",
   "id": "6a6e737c",
   "metadata": {},
   "source": [
    "Traditional text: '們'\n",
    "\n",
    "Simplified text: '们'\n",
    "\n",
    "Translation: (a measure word), individual"
   ]
  },
  {
   "cell_type": "code",
   "execution_count": 6,
   "id": "fcae9ba4",
   "metadata": {
    "ExecuteTime": {
     "end_time": "2021-10-07T07:41:52.562534Z",
     "start_time": "2021-10-07T07:41:52.558549Z"
    }
   },
   "outputs": [
    {
     "data": {
      "text/plain": [
       "'们'"
      ]
     },
     "execution_count": 6,
     "metadata": {},
     "output_type": "execute_result"
    }
   ],
   "source": [
    "chinese_converter.to_simplified('們')"
   ]
  },
  {
   "cell_type": "markdown",
   "id": "1bf10582",
   "metadata": {},
   "source": [
    "## country, state, nation"
   ]
  },
  {
   "cell_type": "markdown",
   "id": "342226f9",
   "metadata": {},
   "source": [
    "Traditional text: '國'\n",
    "\n",
    "Simplified text: '国'\n",
    "\n",
    "Translation: country, state, nation"
   ]
  },
  {
   "cell_type": "code",
   "execution_count": 7,
   "id": "1b1bd537",
   "metadata": {
    "ExecuteTime": {
     "end_time": "2021-10-07T07:42:44.265859Z",
     "start_time": "2021-10-07T07:42:44.246858Z"
    }
   },
   "outputs": [
    {
     "data": {
      "text/plain": [
       "'国'"
      ]
     },
     "execution_count": 7,
     "metadata": {},
     "output_type": "execute_result"
    }
   ],
   "source": [
    "chinese_converter.to_simplified('國')"
   ]
  },
  {
   "cell_type": "markdown",
   "id": "fb697dc7",
   "metadata": {},
   "source": [
    "## at, in, in regard to"
   ]
  },
  {
   "cell_type": "markdown",
   "id": "930d1618",
   "metadata": {},
   "source": [
    "Traditional text: '於' OR '于'\n",
    "\n",
    "Simplified text: '于'\n",
    "\n",
    "Translation: at, in, in regard to"
   ]
  },
  {
   "cell_type": "code",
   "execution_count": 10,
   "id": "15964618",
   "metadata": {
    "ExecuteTime": {
     "end_time": "2021-10-07T08:06:58.312963Z",
     "start_time": "2021-10-07T08:06:58.303985Z"
    }
   },
   "outputs": [
    {
     "data": {
      "text/plain": [
       "'于'"
      ]
     },
     "execution_count": 10,
     "metadata": {},
     "output_type": "execute_result"
    }
   ],
   "source": [
    "chinese_converter.to_simplified('於')"
   ]
  },
  {
   "cell_type": "markdown",
   "id": "cc4ca73a",
   "metadata": {},
   "source": [
    "## can, able, meet, meeting, society, union, party"
   ]
  },
  {
   "cell_type": "markdown",
   "id": "0dd9574a",
   "metadata": {},
   "source": [
    "Traditional text: '會'\n",
    "\n",
    "Simplified text: '会'\n",
    "\n",
    "Translation: can, able, meet, meeting, society, union, party"
   ]
  },
  {
   "cell_type": "code",
   "execution_count": 11,
   "id": "310eb596",
   "metadata": {
    "ExecuteTime": {
     "end_time": "2021-10-07T08:06:58.312963Z",
     "start_time": "2021-10-07T08:06:58.303985Z"
    }
   },
   "outputs": [
    {
     "data": {
      "text/plain": [
       "'会'"
      ]
     },
     "execution_count": 11,
     "metadata": {},
     "output_type": "execute_result"
    }
   ],
   "source": [
    "chinese_converter.to_simplified('會')"
   ]
  },
  {
   "cell_type": "markdown",
   "id": "5c4b901b",
   "metadata": {},
   "source": [
    "## couple, pair, to be opposite, to oppose, to face, for, to, correct (answer), to answer, to reply, to direct (towards something), right"
   ]
  },
  {
   "cell_type": "markdown",
   "id": "cf7eceb1",
   "metadata": {},
   "source": [
    "Traditional text: '對'\n",
    "\n",
    "Simplified text: '对'\n",
    "\n",
    "Translation: couple, pair, to be opposite, to oppose, to face, for, to, correct (answer), to answer, to reply, to direct (towards something), right"
   ]
  },
  {
   "cell_type": "code",
   "execution_count": 13,
   "id": "cce32c41",
   "metadata": {
    "ExecuteTime": {
     "end_time": "2021-10-07T08:06:58.312963Z",
     "start_time": "2021-10-07T08:06:58.303985Z"
    }
   },
   "outputs": [
    {
     "data": {
      "text/plain": [
       "'对'"
      ]
     },
     "execution_count": 13,
     "metadata": {},
     "output_type": "execute_result"
    }
   ],
   "source": [
    "chinese_converter.to_simplified('對')"
   ]
  },
  {
   "cell_type": "markdown",
   "id": "c7079191",
   "metadata": {},
   "source": [
    "## (past tense marker), to cross, to go over, to pass (time), to live, to get along, (surname)"
   ]
  },
  {
   "cell_type": "markdown",
   "id": "f3a5bea3",
   "metadata": {},
   "source": [
    "Traditional text: '過'\n",
    "\n",
    "Simplified text: '过'\n",
    "\n",
    "Translation: (past tense marker), to cross, to go over, to pass (time), to live, to get along, (surname)"
   ]
  },
  {
   "cell_type": "code",
   "execution_count": 17,
   "id": "ee4e8e8c",
   "metadata": {
    "ExecuteTime": {
     "end_time": "2021-10-07T08:11:07.008298Z",
     "start_time": "2021-10-07T08:11:06.991322Z"
    }
   },
   "outputs": [
    {
     "data": {
      "text/plain": [
       "'过'"
      ]
     },
     "execution_count": 17,
     "metadata": {},
     "output_type": "execute_result"
    }
   ],
   "source": [
    "chinese_converter.to_simplified('過')"
   ]
  },
  {
   "cell_type": "code",
   "execution_count": null,
   "id": "4a2a2109",
   "metadata": {},
   "outputs": [],
   "source": []
  },
  {
   "cell_type": "code",
   "execution_count": null,
   "id": "1ec7380e",
   "metadata": {},
   "outputs": [],
   "source": []
  },
  {
   "cell_type": "code",
   "execution_count": null,
   "id": "26e32c2e",
   "metadata": {},
   "outputs": [],
   "source": []
  }
 ],
 "metadata": {
  "kernelspec": {
   "display_name": "Python 3 (ipykernel)",
   "language": "python",
   "name": "python3"
  },
  "language_info": {
   "codemirror_mode": {
    "name": "ipython",
    "version": 3
   },
   "file_extension": ".py",
   "mimetype": "text/x-python",
   "name": "python",
   "nbconvert_exporter": "python",
   "pygments_lexer": "ipython3",
   "version": "3.9.7"
  },
  "toc": {
   "base_numbering": 1,
   "nav_menu": {},
   "number_sections": true,
   "sideBar": true,
   "skip_h1_title": false,
   "title_cell": "Table of Contents",
   "title_sidebar": "Contents",
   "toc_cell": false,
   "toc_position": {},
   "toc_section_display": true,
   "toc_window_display": false
  }
 },
 "nbformat": 4,
 "nbformat_minor": 5
}
