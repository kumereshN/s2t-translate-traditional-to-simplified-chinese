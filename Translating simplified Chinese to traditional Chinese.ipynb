{
 "cells": [
  {
   "cell_type": "markdown",
   "id": "14dccb98",
   "metadata": {},
   "source": [
    "# Translating traditional Chinese to simplified Chinese"
   ]
  },
  {
   "cell_type": "markdown",
   "id": "103d28c9",
   "metadata": {},
   "source": [
    "# chinese_converter package"
   ]
  },
  {
   "cell_type": "markdown",
   "id": "b8ffa991",
   "metadata": {},
   "source": [
    "## Import the package chinese_converter"
   ]
  },
  {
   "cell_type": "code",
   "execution_count": 1,
   "id": "9f6276f5",
   "metadata": {
    "ExecuteTime": {
     "end_time": "2021-10-07T07:37:10.006417Z",
     "start_time": "2021-10-07T07:37:09.974776Z"
    }
   },
   "outputs": [],
   "source": [
    "import chinese_converter"
   ]
  },
  {
   "cell_type": "markdown",
   "id": "07d89d4a",
   "metadata": {},
   "source": [
    "## within, inside"
   ]
  },
  {
   "cell_type": "markdown",
   "id": "f9033fef",
   "metadata": {},
   "source": [
    "Traditional text: '裏' or '裡'\n",
    "\n",
    "Simplified text: '里'\n",
    "\n",
    "Translation: within, inside"
   ]
  },
  {
   "cell_type": "code",
   "execution_count": 2,
   "id": "52e5f66f",
   "metadata": {
    "ExecuteTime": {
     "end_time": "2021-10-07T07:37:10.877242Z",
     "start_time": "2021-10-07T07:37:10.862188Z"
    }
   },
   "outputs": [
    {
     "data": {
      "text/plain": [
       "'里'"
      ]
     },
     "execution_count": 2,
     "metadata": {},
     "output_type": "execute_result"
    }
   ],
   "source": [
    "chinese_converter.to_simplified('裡')"
   ]
  },
  {
   "cell_type": "code",
   "execution_count": 16,
   "id": "5cbe4d7d",
   "metadata": {
    "ExecuteTime": {
     "end_time": "2021-10-07T08:08:39.542098Z",
     "start_time": "2021-10-07T08:08:39.535106Z"
    }
   },
   "outputs": [
    {
     "data": {
      "text/plain": [
       "'里'"
      ]
     },
     "execution_count": 16,
     "metadata": {},
     "output_type": "execute_result"
    }
   ],
   "source": [
    "chinese_converter.to_simplified('裏')"
   ]
  },
  {
   "cell_type": "markdown",
   "id": "8745b65c",
   "metadata": {},
   "source": [
    "Have create a mapping between '裏' in traditional.txt with '里' in simplified.txt"
   ]
  },
  {
   "cell_type": "markdown",
   "id": "5f884422",
   "metadata": {},
   "source": [
    "## this/ these"
   ]
  },
  {
   "cell_type": "markdown",
   "id": "c3ff1bbb",
   "metadata": {},
   "source": [
    "Traditional text: '這'\n",
    "\n",
    "Simplified text: '这'\n",
    "\n",
    "Translation: this/ these"
   ]
  },
  {
   "cell_type": "code",
   "execution_count": 3,
   "id": "6be48c94",
   "metadata": {
    "ExecuteTime": {
     "end_time": "2021-10-07T07:37:16.952166Z",
     "start_time": "2021-10-07T07:37:16.934195Z"
    }
   },
   "outputs": [
    {
     "data": {
      "text/plain": [
       "'这'"
      ]
     },
     "execution_count": 3,
     "metadata": {},
     "output_type": "execute_result"
    }
   ],
   "source": [
    "chinese_converter.to_simplified('這')"
   ]
  },
  {
   "cell_type": "markdown",
   "id": "cfc9ab1d",
   "metadata": {},
   "source": [
    "## act as, take…to be, to be, to do, to serve as, to become / because of, for, to"
   ]
  },
  {
   "cell_type": "markdown",
   "id": "b474b472",
   "metadata": {},
   "source": [
    "Traditional text: '為'\n",
    "\n",
    "Simplified text: '为'\n",
    "\n",
    "Translation: act as, take…to be, to be, to do, to serve as, to become / because of, for, to"
   ]
  },
  {
   "cell_type": "code",
   "execution_count": 4,
   "id": "4d68670c",
   "metadata": {
    "ExecuteTime": {
     "end_time": "2021-10-07T07:37:16.952166Z",
     "start_time": "2021-10-07T07:37:16.934195Z"
    }
   },
   "outputs": [
    {
     "data": {
      "text/plain": [
       "'为'"
      ]
     },
     "execution_count": 4,
     "metadata": {},
     "output_type": "execute_result"
    }
   ],
   "source": [
    "chinese_converter.to_simplified('為')"
   ]
  },
  {
   "cell_type": "markdown",
   "id": "117ef02e",
   "metadata": {},
   "source": [
    "## to come"
   ]
  },
  {
   "cell_type": "markdown",
   "id": "c13b2449",
   "metadata": {},
   "source": [
    "Traditional text: '來'\n",
    "\n",
    "Simplified text: '来'\n",
    "\n",
    "Translation: to come"
   ]
  },
  {
   "cell_type": "code",
   "execution_count": null,
   "id": "d889648e",
   "metadata": {
    "ExecuteTime": {
     "end_time": "2021-10-07T07:37:18.724853Z",
     "start_time": "2021-10-07T07:37:18.717861Z"
    }
   },
   "outputs": [],
   "source": [
    "chinese_converter.to_simplified('來')"
   ]
  },
  {
   "cell_type": "markdown",
   "id": "ffcc5946",
   "metadata": {},
   "source": [
    "## (a measure word), individual"
   ]
  },
  {
   "cell_type": "markdown",
   "id": "a360df76",
   "metadata": {},
   "source": [
    "Traditional text: '個'\n",
    "\n",
    "Simplified text: '个'\n",
    "\n",
    "Translation: (a measure word), individual"
   ]
  },
  {
   "cell_type": "code",
   "execution_count": 5,
   "id": "dd4d49d6",
   "metadata": {
    "ExecuteTime": {
     "end_time": "2021-10-07T07:37:18.724853Z",
     "start_time": "2021-10-07T07:37:18.717861Z"
    }
   },
   "outputs": [
    {
     "data": {
      "text/plain": [
       "'个'"
      ]
     },
     "execution_count": 5,
     "metadata": {},
     "output_type": "execute_result"
    }
   ],
   "source": [
    "chinese_converter.to_simplified('個')"
   ]
  },
  {
   "cell_type": "markdown",
   "id": "b1fb4fb6",
   "metadata": {},
   "source": [
    "## (plural marker for pronouns and a few animate nouns)"
   ]
  },
  {
   "cell_type": "markdown",
   "id": "a3aef2d4",
   "metadata": {},
   "source": [
    "Traditional text: '們'\n",
    "\n",
    "Simplified text: '们'\n",
    "\n",
    "Translation: (a measure word), individual"
   ]
  },
  {
   "cell_type": "code",
   "execution_count": 6,
   "id": "eccc6298",
   "metadata": {
    "ExecuteTime": {
     "end_time": "2021-10-07T07:41:52.562534Z",
     "start_time": "2021-10-07T07:41:52.558549Z"
    }
   },
   "outputs": [
    {
     "data": {
      "text/plain": [
       "'们'"
      ]
     },
     "execution_count": 6,
     "metadata": {},
     "output_type": "execute_result"
    }
   ],
   "source": [
    "chinese_converter.to_simplified('們')"
   ]
  },
  {
   "cell_type": "markdown",
   "id": "01d34f0c",
   "metadata": {},
   "source": [
    "## country, state, nation"
   ]
  },
  {
   "cell_type": "markdown",
   "id": "733285c2",
   "metadata": {},
   "source": [
    "Traditional text: '國'\n",
    "\n",
    "Simplified text: '国'\n",
    "\n",
    "Translation: country, state, nation"
   ]
  },
  {
   "cell_type": "code",
   "execution_count": 7,
   "id": "9bd23365",
   "metadata": {
    "ExecuteTime": {
     "end_time": "2021-10-07T07:42:44.265859Z",
     "start_time": "2021-10-07T07:42:44.246858Z"
    }
   },
   "outputs": [
    {
     "data": {
      "text/plain": [
       "'国'"
      ]
     },
     "execution_count": 7,
     "metadata": {},
     "output_type": "execute_result"
    }
   ],
   "source": [
    "chinese_converter.to_simplified('國')"
   ]
  },
  {
   "cell_type": "markdown",
   "id": "dffe3c30",
   "metadata": {},
   "source": [
    "## at, in, in regard to"
   ]
  },
  {
   "cell_type": "markdown",
   "id": "a68f7b7f",
   "metadata": {},
   "source": [
    "Traditional text: '於' OR '于'\n",
    "\n",
    "Simplified text: '于'\n",
    "\n",
    "Translation: at, in, in regard to"
   ]
  },
  {
   "cell_type": "code",
   "execution_count": 10,
   "id": "53fe6d54",
   "metadata": {
    "ExecuteTime": {
     "end_time": "2021-10-07T08:06:58.312963Z",
     "start_time": "2021-10-07T08:06:58.303985Z"
    }
   },
   "outputs": [
    {
     "data": {
      "text/plain": [
       "'于'"
      ]
     },
     "execution_count": 10,
     "metadata": {},
     "output_type": "execute_result"
    }
   ],
   "source": [
    "chinese_converter.to_simplified('於')"
   ]
  },
  {
   "cell_type": "markdown",
   "id": "e93f5d5d",
   "metadata": {},
   "source": [
    "## can, able, meet, meeting, society, union, party"
   ]
  },
  {
   "cell_type": "markdown",
   "id": "57506871",
   "metadata": {},
   "source": [
    "Traditional text: '會'\n",
    "\n",
    "Simplified text: '会'\n",
    "\n",
    "Translation: can, able, meet, meeting, society, union, party"
   ]
  },
  {
   "cell_type": "code",
   "execution_count": 11,
   "id": "9f00dd10",
   "metadata": {
    "ExecuteTime": {
     "end_time": "2021-10-07T08:06:58.312963Z",
     "start_time": "2021-10-07T08:06:58.303985Z"
    }
   },
   "outputs": [
    {
     "data": {
      "text/plain": [
       "'会'"
      ]
     },
     "execution_count": 11,
     "metadata": {},
     "output_type": "execute_result"
    }
   ],
   "source": [
    "chinese_converter.to_simplified('會')"
   ]
  },
  {
   "cell_type": "markdown",
   "id": "b968b53e",
   "metadata": {},
   "source": [
    "## couple, pair, to be opposite, to oppose, to face, for, to, correct (answer), to answer, to reply, to direct (towards something), right"
   ]
  },
  {
   "cell_type": "markdown",
   "id": "58b8b015",
   "metadata": {},
   "source": [
    "Traditional text: '對'\n",
    "\n",
    "Simplified text: '对'\n",
    "\n",
    "Translation: couple, pair, to be opposite, to oppose, to face, for, to, correct (answer), to answer, to reply, to direct (towards something), right"
   ]
  },
  {
   "cell_type": "code",
   "execution_count": 13,
   "id": "1291d510",
   "metadata": {
    "ExecuteTime": {
     "end_time": "2021-10-07T08:06:58.312963Z",
     "start_time": "2021-10-07T08:06:58.303985Z"
    }
   },
   "outputs": [
    {
     "data": {
      "text/plain": [
       "'对'"
      ]
     },
     "execution_count": 13,
     "metadata": {},
     "output_type": "execute_result"
    }
   ],
   "source": [
    "chinese_converter.to_simplified('對')"
   ]
  },
  {
   "cell_type": "markdown",
   "id": "fa621286",
   "metadata": {},
   "source": [
    "## (past tense marker), to cross, to go over, to pass (time), to live, to get along, (surname)"
   ]
  },
  {
   "cell_type": "markdown",
   "id": "d8244af4",
   "metadata": {},
   "source": [
    "Traditional text: '過'\n",
    "\n",
    "Simplified text: '过'\n",
    "\n",
    "Translation: (past tense marker), to cross, to go over, to pass (time), to live, to get along, (surname)"
   ]
  },
  {
   "cell_type": "code",
   "execution_count": 17,
   "id": "cf651103",
   "metadata": {
    "ExecuteTime": {
     "end_time": "2021-10-07T08:13:25.803296Z",
     "start_time": "2021-10-07T08:13:25.792293Z"
    }
   },
   "outputs": [
    {
     "data": {
      "text/plain": [
       "'过'"
      ]
     },
     "execution_count": 17,
     "metadata": {},
     "output_type": "execute_result"
    }
   ],
   "source": [
    "chinese_converter.to_simplified('過')"
   ]
  },
  {
   "cell_type": "markdown",
   "id": "bc6f6230",
   "metadata": {},
   "source": [
    "## army, military, arms"
   ]
  },
  {
   "cell_type": "markdown",
   "id": "a6211642",
   "metadata": {},
   "source": [
    "Traditional text: '軍'\n",
    "\n",
    "Simplified text: '军'\n",
    "\n",
    "Translation: army, military, arms"
   ]
  },
  {
   "cell_type": "code",
   "execution_count": 18,
   "id": "c47fbca8",
   "metadata": {
    "ExecuteTime": {
     "end_time": "2021-10-07T08:13:25.803296Z",
     "start_time": "2021-10-07T08:13:25.792293Z"
    }
   },
   "outputs": [
    {
     "data": {
      "text/plain": [
       "'军'"
      ]
     },
     "execution_count": 18,
     "metadata": {},
     "output_type": "execute_result"
    }
   ],
   "source": [
    "chinese_converter.to_simplified('軍')"
   ]
  },
  {
   "cell_type": "markdown",
   "id": "8b69a9e1",
   "metadata": {},
   "source": [
    "## -less, not to have, no, none, not, to lack, un-"
   ]
  },
  {
   "cell_type": "markdown",
   "id": "1691056b",
   "metadata": {},
   "source": [
    "Traditional text: '無'\n",
    "\n",
    "Simplified text: '无'\n",
    "\n",
    "Translation: -less, not to have, no, none, not, to lack, un-"
   ]
  },
  {
   "cell_type": "code",
   "execution_count": 19,
   "id": "f4da1499",
   "metadata": {
    "ExecuteTime": {
     "end_time": "2021-10-07T08:13:25.803296Z",
     "start_time": "2021-10-07T08:13:25.792293Z"
    }
   },
   "outputs": [
    {
     "data": {
      "text/plain": [
       "'无'"
      ]
     },
     "execution_count": 19,
     "metadata": {},
     "output_type": "execute_result"
    }
   ],
   "source": [
    "chinese_converter.to_simplified('無')"
   ]
  },
  {
   "cell_type": "code",
   "execution_count": null,
   "id": "56a90c0d",
   "metadata": {},
   "outputs": [],
   "source": []
  },
  {
   "cell_type": "code",
   "execution_count": null,
   "id": "eafe4723",
   "metadata": {},
   "outputs": [],
   "source": []
  },
  {
   "cell_type": "code",
   "execution_count": null,
   "id": "edc91de1",
   "metadata": {},
   "outputs": [],
   "source": []
  }
 ],
 "metadata": {
  "kernelspec": {
   "display_name": "Python 3 (ipykernel)",
   "language": "python",
   "name": "python3"
  },
  "language_info": {
   "codemirror_mode": {
    "name": "ipython",
    "version": 3
   },
   "file_extension": ".py",
   "mimetype": "text/x-python",
   "name": "python",
   "nbconvert_exporter": "python",
   "pygments_lexer": "ipython3",
   "version": "3.9.7"
  },
  "toc": {
   "base_numbering": 1,
   "nav_menu": {},
   "number_sections": true,
   "sideBar": true,
   "skip_h1_title": false,
   "title_cell": "Table of Contents",
   "title_sidebar": "Contents",
   "toc_cell": false,
   "toc_position": {
    "height": "calc(100% - 180px)",
    "left": "10px",
    "top": "150px",
    "width": "304.475px"
   },
   "toc_section_display": true,
   "toc_window_display": false
  }
 },
 "nbformat": 4,
 "nbformat_minor": 5
}
