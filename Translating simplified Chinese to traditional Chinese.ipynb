{
 "cells": [
  {
   "cell_type": "markdown",
   "id": "14dccb98",
   "metadata": {},
   "source": [
    "# Translating traditional Chinese to simplified Chinese"
   ]
  },
  {
   "cell_type": "markdown",
   "id": "d52c447c",
   "metadata": {},
   "source": [
    "# chinese_converter package"
   ]
  },
  {
   "cell_type": "markdown",
   "id": "b8ffa991",
   "metadata": {},
   "source": [
    "## Import the package chinese_converter"
   ]
  },
  {
   "cell_type": "code",
   "execution_count": 1,
   "id": "9f6276f5",
   "metadata": {
    "ExecuteTime": {
     "end_time": "2021-10-07T07:37:10.006417Z",
     "start_time": "2021-10-07T07:37:09.974776Z"
    }
   },
   "outputs": [],
   "source": [
    "import chinese_converter"
   ]
  },
  {
   "cell_type": "markdown",
   "id": "6e1bcf91",
   "metadata": {},
   "source": [
    "## within, inside"
   ]
  },
  {
   "cell_type": "markdown",
   "id": "984970fc",
   "metadata": {},
   "source": [
    "Traditional text: '裏' or '裡'\n",
    "\n",
    "Simplified text: '里'\n",
    "\n",
    "Translation: within, inside"
   ]
  },
  {
   "cell_type": "code",
   "execution_count": 2,
   "id": "52e5f66f",
   "metadata": {
    "ExecuteTime": {
     "end_time": "2021-10-07T07:37:10.877242Z",
     "start_time": "2021-10-07T07:37:10.862188Z"
    }
   },
   "outputs": [
    {
     "data": {
      "text/plain": [
       "'里'"
      ]
     },
     "execution_count": 2,
     "metadata": {},
     "output_type": "execute_result"
    }
   ],
   "source": [
    "chinese_converter.to_simplified('裡')"
   ]
  },
  {
   "cell_type": "code",
   "execution_count": 16,
   "id": "24939d98",
   "metadata": {
    "ExecuteTime": {
     "end_time": "2021-10-07T08:08:39.542098Z",
     "start_time": "2021-10-07T08:08:39.535106Z"
    }
   },
   "outputs": [
    {
     "data": {
      "text/plain": [
       "'里'"
      ]
     },
     "execution_count": 16,
     "metadata": {},
     "output_type": "execute_result"
    }
   ],
   "source": [
    "chinese_converter.to_simplified('裏')"
   ]
  },
  {
   "cell_type": "markdown",
   "id": "4b36ad47",
   "metadata": {},
   "source": [
    "Have create a mapping between '裏' in traditional.txt with '里' in simplified.txt"
   ]
  },
  {
   "cell_type": "markdown",
   "id": "012545cb",
   "metadata": {},
   "source": [
    "## this/ these"
   ]
  },
  {
   "cell_type": "markdown",
   "id": "e637170f",
   "metadata": {},
   "source": [
    "Traditional text: '這'\n",
    "\n",
    "Simplified text: '这'\n",
    "\n",
    "Translation: this/ these"
   ]
  },
  {
   "cell_type": "code",
   "execution_count": 3,
   "id": "4c5f9b2b",
   "metadata": {
    "ExecuteTime": {
     "end_time": "2021-10-07T07:37:16.952166Z",
     "start_time": "2021-10-07T07:37:16.934195Z"
    }
   },
   "outputs": [
    {
     "data": {
      "text/plain": [
       "'这'"
      ]
     },
     "execution_count": 3,
     "metadata": {},
     "output_type": "execute_result"
    }
   ],
   "source": [
    "chinese_converter.to_simplified('這')"
   ]
  },
  {
   "cell_type": "markdown",
   "id": "bb386463",
   "metadata": {},
   "source": [
    "## act as, take…to be, to be, to do, to serve as, to become / because of, for, to"
   ]
  },
  {
   "cell_type": "markdown",
   "id": "6377bdd5",
   "metadata": {},
   "source": [
    "Traditional text: '為'\n",
    "\n",
    "Simplified text: '为'\n",
    "\n",
    "Translation: act as, take…to be, to be, to do, to serve as, to become / because of, for, to"
   ]
  },
  {
   "cell_type": "code",
   "execution_count": 4,
   "id": "5b4f4332",
   "metadata": {
    "ExecuteTime": {
     "end_time": "2021-10-07T07:37:16.952166Z",
     "start_time": "2021-10-07T07:37:16.934195Z"
    }
   },
   "outputs": [
    {
     "data": {
      "text/plain": [
       "'为'"
      ]
     },
     "execution_count": 4,
     "metadata": {},
     "output_type": "execute_result"
    }
   ],
   "source": [
    "chinese_converter.to_simplified('為')"
   ]
  },
  {
   "cell_type": "markdown",
   "id": "bfd0e029",
   "metadata": {},
   "source": [
    "## to come"
   ]
  },
  {
   "cell_type": "markdown",
   "id": "92db9bac",
   "metadata": {},
   "source": [
    "Traditional text: '來'\n",
    "\n",
    "Simplified text: '来'\n",
    "\n",
    "Translation: to come"
   ]
  },
  {
   "cell_type": "code",
   "execution_count": null,
   "id": "534a0e20",
   "metadata": {
    "ExecuteTime": {
     "end_time": "2021-10-07T07:37:18.724853Z",
     "start_time": "2021-10-07T07:37:18.717861Z"
    }
   },
   "outputs": [],
   "source": [
    "chinese_converter.to_simplified('來')"
   ]
  },
  {
   "cell_type": "markdown",
   "id": "28dcb3d4",
   "metadata": {},
   "source": [
    "## (a measure word), individual"
   ]
  },
  {
   "cell_type": "markdown",
   "id": "cf1bf87a",
   "metadata": {},
   "source": [
    "Traditional text: '個'\n",
    "\n",
    "Simplified text: '个'\n",
    "\n",
    "Translation: (a measure word), individual"
   ]
  },
  {
   "cell_type": "code",
   "execution_count": 5,
   "id": "4ad7e9f2",
   "metadata": {
    "ExecuteTime": {
     "end_time": "2021-10-07T07:37:18.724853Z",
     "start_time": "2021-10-07T07:37:18.717861Z"
    }
   },
   "outputs": [
    {
     "data": {
      "text/plain": [
       "'个'"
      ]
     },
     "execution_count": 5,
     "metadata": {},
     "output_type": "execute_result"
    }
   ],
   "source": [
    "chinese_converter.to_simplified('個')"
   ]
  },
  {
   "cell_type": "markdown",
   "id": "d0436862",
   "metadata": {},
   "source": [
    "## (plural marker for pronouns and a few animate nouns)"
   ]
  },
  {
   "cell_type": "markdown",
   "id": "b051e763",
   "metadata": {},
   "source": [
    "Traditional text: '們'\n",
    "\n",
    "Simplified text: '们'\n",
    "\n",
    "Translation: (a measure word), individual"
   ]
  },
  {
   "cell_type": "code",
   "execution_count": 6,
   "id": "5860e827",
   "metadata": {
    "ExecuteTime": {
     "end_time": "2021-10-07T07:41:52.562534Z",
     "start_time": "2021-10-07T07:41:52.558549Z"
    }
   },
   "outputs": [
    {
     "data": {
      "text/plain": [
       "'们'"
      ]
     },
     "execution_count": 6,
     "metadata": {},
     "output_type": "execute_result"
    }
   ],
   "source": [
    "chinese_converter.to_simplified('們')"
   ]
  },
  {
   "cell_type": "markdown",
   "id": "e5a79b49",
   "metadata": {},
   "source": [
    "## country, state, nation"
   ]
  },
  {
   "cell_type": "markdown",
   "id": "7769382a",
   "metadata": {},
   "source": [
    "Traditional text: '國'\n",
    "\n",
    "Simplified text: '国'\n",
    "\n",
    "Translation: country, state, nation"
   ]
  },
  {
   "cell_type": "code",
   "execution_count": 7,
   "id": "560ecbfd",
   "metadata": {
    "ExecuteTime": {
     "end_time": "2021-10-07T07:42:44.265859Z",
     "start_time": "2021-10-07T07:42:44.246858Z"
    }
   },
   "outputs": [
    {
     "data": {
      "text/plain": [
       "'国'"
      ]
     },
     "execution_count": 7,
     "metadata": {},
     "output_type": "execute_result"
    }
   ],
   "source": [
    "chinese_converter.to_simplified('國')"
   ]
  },
  {
   "cell_type": "markdown",
   "id": "b748cf07",
   "metadata": {},
   "source": [
    "## at, in, in regard to"
   ]
  },
  {
   "cell_type": "markdown",
   "id": "9cecff7b",
   "metadata": {},
   "source": [
    "Traditional text: '於' OR '于'\n",
    "\n",
    "Simplified text: '于'\n",
    "\n",
    "Translation: at, in, in regard to"
   ]
  },
  {
   "cell_type": "code",
   "execution_count": 10,
   "id": "d6f6be54",
   "metadata": {
    "ExecuteTime": {
     "end_time": "2021-10-07T08:06:58.312963Z",
     "start_time": "2021-10-07T08:06:58.303985Z"
    }
   },
   "outputs": [
    {
     "data": {
      "text/plain": [
       "'于'"
      ]
     },
     "execution_count": 10,
     "metadata": {},
     "output_type": "execute_result"
    }
   ],
   "source": [
    "chinese_converter.to_simplified('於')"
   ]
  },
  {
   "cell_type": "markdown",
   "id": "db60950f",
   "metadata": {},
   "source": [
    "## can, able, meet, meeting, society, union, party"
   ]
  },
  {
   "cell_type": "markdown",
   "id": "f4a854a2",
   "metadata": {},
   "source": [
    "Traditional text: '會'\n",
    "\n",
    "Simplified text: '会'\n",
    "\n",
    "Translation: can, able, meet, meeting, society, union, party"
   ]
  },
  {
   "cell_type": "code",
   "execution_count": 11,
   "id": "10574446",
   "metadata": {
    "ExecuteTime": {
     "end_time": "2021-10-07T08:06:58.312963Z",
     "start_time": "2021-10-07T08:06:58.303985Z"
    }
   },
   "outputs": [
    {
     "data": {
      "text/plain": [
       "'会'"
      ]
     },
     "execution_count": 11,
     "metadata": {},
     "output_type": "execute_result"
    }
   ],
   "source": [
    "chinese_converter.to_simplified('會')"
   ]
  },
  {
   "cell_type": "markdown",
   "id": "0d31988f",
   "metadata": {},
   "source": [
    "## couple, pair, to be opposite, to oppose, to face, for, to, correct (answer), to answer, to reply, to direct (towards something), right"
   ]
  },
  {
   "cell_type": "markdown",
   "id": "586610f0",
   "metadata": {},
   "source": [
    "Traditional text: '對'\n",
    "\n",
    "Simplified text: '对'\n",
    "\n",
    "Translation: couple, pair, to be opposite, to oppose, to face, for, to, correct (answer), to answer, to reply, to direct (towards something), right"
   ]
  },
  {
   "cell_type": "code",
   "execution_count": 13,
   "id": "b9701e83",
   "metadata": {
    "ExecuteTime": {
     "end_time": "2021-10-07T08:06:58.312963Z",
     "start_time": "2021-10-07T08:06:58.303985Z"
    }
   },
   "outputs": [
    {
     "data": {
      "text/plain": [
       "'对'"
      ]
     },
     "execution_count": 13,
     "metadata": {},
     "output_type": "execute_result"
    }
   ],
   "source": [
    "chinese_converter.to_simplified('對')"
   ]
  },
  {
   "cell_type": "markdown",
   "id": "c1b1cede",
   "metadata": {},
   "source": [
    "## (past tense marker), to cross, to go over, to pass (time), to live, to get along, (surname)"
   ]
  },
  {
   "cell_type": "markdown",
   "id": "d2fa7fe8",
   "metadata": {},
   "source": [
    "Traditional text: '過'\n",
    "\n",
    "Simplified text: '过'\n",
    "\n",
    "Translation: (past tense marker), to cross, to go over, to pass (time), to live, to get along, (surname)"
   ]
  },
  {
   "cell_type": "code",
   "execution_count": 17,
   "id": "bd26673c",
   "metadata": {
    "ExecuteTime": {
     "end_time": "2021-10-07T08:13:25.803296Z",
     "start_time": "2021-10-07T08:13:25.792293Z"
    }
   },
   "outputs": [
    {
     "data": {
      "text/plain": [
       "'过'"
      ]
     },
     "execution_count": 17,
     "metadata": {},
     "output_type": "execute_result"
    }
   ],
   "source": [
    "chinese_converter.to_simplified('過')"
   ]
  },
  {
   "cell_type": "markdown",
   "id": "2551cd5d",
   "metadata": {},
   "source": [
    "## army, military, arms"
   ]
  },
  {
   "cell_type": "markdown",
   "id": "972dbd33",
   "metadata": {},
   "source": [
    "Traditional text: '軍'\n",
    "\n",
    "Simplified text: '军'\n",
    "\n",
    "Translation: army, military, arms"
   ]
  },
  {
   "cell_type": "code",
   "execution_count": 18,
   "id": "d0ee23a0",
   "metadata": {
    "ExecuteTime": {
     "end_time": "2021-10-07T08:13:25.803296Z",
     "start_time": "2021-10-07T08:13:25.792293Z"
    }
   },
   "outputs": [
    {
     "data": {
      "text/plain": [
       "'军'"
      ]
     },
     "execution_count": 18,
     "metadata": {},
     "output_type": "execute_result"
    }
   ],
   "source": [
    "chinese_converter.to_simplified('軍')"
   ]
  },
  {
   "cell_type": "markdown",
   "id": "0e12ba0c",
   "metadata": {},
   "source": [
    "## -less, not to have, no, none, not, to lack, un-"
   ]
  },
  {
   "cell_type": "markdown",
   "id": "b0024dbd",
   "metadata": {},
   "source": [
    "Traditional text: '無'\n",
    "\n",
    "Simplified text: '无'\n",
    "\n",
    "Translation: -less, not to have, no, none, not, to lack, un-"
   ]
  },
  {
   "cell_type": "code",
   "execution_count": 19,
   "id": "4bafc4c6",
   "metadata": {
    "ExecuteTime": {
     "end_time": "2021-10-07T08:13:25.803296Z",
     "start_time": "2021-10-07T08:13:25.792293Z"
    }
   },
   "outputs": [
    {
     "data": {
      "text/plain": [
       "'无'"
      ]
     },
     "execution_count": 19,
     "metadata": {},
     "output_type": "execute_result"
    }
   ],
   "source": [
    "chinese_converter.to_simplified('無')"
   ]
  },
  {
   "cell_type": "code",
   "execution_count": null,
   "id": "d2deb414",
   "metadata": {},
   "outputs": [],
   "source": []
  },
  {
   "cell_type": "code",
   "execution_count": null,
   "id": "4ebe0e8b",
   "metadata": {},
   "outputs": [],
   "source": []
  },
  {
   "cell_type": "code",
   "execution_count": null,
   "id": "43e0e8b2",
   "metadata": {},
   "outputs": [],
   "source": []
  }
 ],
 "metadata": {
  "kernelspec": {
   "display_name": "Python 3 (ipykernel)",
   "language": "python",
   "name": "python3"
  },
  "language_info": {
   "codemirror_mode": {
    "name": "ipython",
    "version": 3
   },
   "file_extension": ".py",
   "mimetype": "text/x-python",
   "name": "python",
   "nbconvert_exporter": "python",
   "pygments_lexer": "ipython3",
   "version": "3.9.7"
  },
  "toc": {
   "base_numbering": 1,
   "nav_menu": {},
   "number_sections": true,
   "sideBar": true,
   "skip_h1_title": false,
   "title_cell": "Table of Contents",
   "title_sidebar": "Contents",
   "toc_cell": false,
   "toc_position": {
    "height": "calc(100% - 180px)",
    "left": "10px",
    "top": "150px",
    "width": "304.475px"
   },
   "toc_section_display": true,
   "toc_window_display": false
  }
 },
 "nbformat": 4,
 "nbformat_minor": 5
}
